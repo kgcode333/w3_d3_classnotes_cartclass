{
 "cells": [
  {
   "cell_type": "code",
   "execution_count": null,
   "metadata": {},
   "outputs": [],
   "source": [
    "#Kims Version"
   ]
  },
  {
   "cell_type": "markdown",
   "metadata": {},
   "source": [
    "# Object-Oriented-Programming (OOP)"
   ]
  },
  {
   "cell_type": "markdown",
   "metadata": {},
   "source": [
    "## Tasks Today:\n",
    "\n",
    "   \n",
    "\n",
    "1) <b>Creating a Class (Initializing/Declaring)</b> <br>\n",
    "2) <b>Using a Class (Instantiating)</b> <br>\n",
    " &nbsp;&nbsp;&nbsp;&nbsp; a) Creating One Instance <br>\n",
    " &nbsp;&nbsp;&nbsp;&nbsp; b) Creating Multiple Instances <br>\n",
    " &nbsp;&nbsp;&nbsp;&nbsp; c) In-Class Exercise #1 - Create a Class 'Car' and instantiate three different makes of cars <br>\n",
    "3) <b>The \\__init\\__() Method</b> <br>\n",
    " &nbsp;&nbsp;&nbsp;&nbsp; a) The 'self' Attribute <br>\n",
    "4) <b>Class Attributes</b> <br>\n",
    " &nbsp;&nbsp;&nbsp;&nbsp; a) Initializing Attributes <br>\n",
    " &nbsp;&nbsp;&nbsp;&nbsp; b) Setting an Attribute Outside of the \\__init\\__() Method <br>\n",
    " &nbsp;&nbsp;&nbsp;&nbsp; c) Setting Defaults for Attributes <br>\n",
    " &nbsp;&nbsp;&nbsp;&nbsp; d) Accessing Class Attributes <br>\n",
    " &nbsp;&nbsp;&nbsp;&nbsp; e) Changing Class Attributes <br>\n",
    " &nbsp;&nbsp;&nbsp;&nbsp; f) In-Class Exercise #2 - Add a color and wheels attribute to your 'Car' class <br>\n",
    "5) <b>Class Methods</b> <br>\n",
    " &nbsp;&nbsp;&nbsp;&nbsp; a) Creating <br>\n",
    " &nbsp;&nbsp;&nbsp;&nbsp; b) Calling <br>\n",
    " &nbsp;&nbsp;&nbsp;&nbsp; c) Modifying an Attribute's Value Through a Method <br>\n",
    " &nbsp;&nbsp;&nbsp;&nbsp; d) Incrementing an Attribute's Value Through a Method <br>\n",
    " &nbsp;&nbsp;&nbsp;&nbsp; e) In-Class Exercise #3 - Add a method that prints the cars color and wheel number, then call them <br>\n",
    "6) <b>Inheritance</b> <br>\n",
    " &nbsp;&nbsp;&nbsp;&nbsp; a) Syntax for Inheriting from a Parent Class <br>\n",
    " &nbsp;&nbsp;&nbsp;&nbsp; b) The \\__init\\__() Method for a Child Class (super()) <br>\n",
    " &nbsp;&nbsp;&nbsp;&nbsp; c) Defining Attributes and Methods for the Child Class <br>\n",
    " &nbsp;&nbsp;&nbsp;&nbsp; d) Method Overriding <br>\n",
    " &nbsp;&nbsp;&nbsp;&nbsp; e) In-Class Exercise #4 - Create a class 'Ford' that inherits from 'Car' class and initialize it as a Blue Ford Explorer with 4 wheels using the super() method <br>\n",
    "7) <b>Classes as Attributes</b> <br>\n",
    "8) <b>Exercises</b> <br>\n",
    " &nbsp;&nbsp;&nbsp;&nbsp; a) Exercise #1 - Turn the shopping cart program from last week into an object-oriented program <br>"
   ]
  },
  {
   "cell_type": "markdown",
   "metadata": {},
   "source": [
    "## Creating a Class (Initializing/Declaring)\n",
    "<p>When creating a class, function, or even a variable you are initializing that object. Initializing and Declaring occur at the same time in Python, whereas in lower level languages you have to declare an object before initializing it. This is the first step in the process of using a class.</p>"
   ]
  },
  {
   "cell_type": "code",
   "execution_count": 4,
   "metadata": {},
   "outputs": [],
   "source": [
    "class Car():\n",
    "    wheels = 4\n",
    "    color = 'blue'"
   ]
  },
  {
   "cell_type": "markdown",
   "metadata": {},
   "source": [
    "## Using a Class (Instantiating)\n",
    "<p>The process of creating a class is called <i>Instantiating</i>. Each time you create a variable of that type of class, it is referred to as an <i>Instance</i> of that class. This is the second step in the process of using a class.</p>"
   ]
  },
  {
   "cell_type": "markdown",
   "metadata": {},
   "source": [
    "##### Creating One Instance"
   ]
  },
  {
   "cell_type": "code",
   "execution_count": null,
   "metadata": {},
   "outputs": [],
   "source": [
    "ford = Car()\n"
   ]
  },
  {
   "cell_type": "markdown",
   "metadata": {},
   "source": [
    "##### Creating Multiple Instances"
   ]
  },
  {
   "cell_type": "code",
   "execution_count": null,
   "metadata": {},
   "outputs": [],
   "source": [
    "mazda = Car()\n",
    "honda = Car()\n",
    "porsche = Car()\n",
    "print(porsche.wheels)"
   ]
  },
  {
   "cell_type": "markdown",
   "metadata": {},
   "source": [
    "##### In-Class Exercise #1 - Create a Class 'Car' and Instantiate three different makes of cars"
   ]
  },
  {
   "cell_type": "code",
   "execution_count": 8,
   "metadata": {},
   "outputs": [
    {
     "name": "stdout",
     "output_type": "stream",
     "text": [
      "red\n"
     ]
    }
   ],
   "source": [
    "class Car():\n",
    "    colors = \"orange\",\"red\",\"purple\",\"black\"\n",
    "    doors = 2\n",
    "tesla = Car()\n",
    "camaro = Car()\n",
    "lambo = Car()\n",
    "print(tesla.colors[1])\n",
    "\n",
    "    \n",
    "\n"
   ]
  },
  {
   "cell_type": "markdown",
   "metadata": {},
   "source": [
    "## The \\__init\\__() Method <br>\n",
    "<p>This method is used in almost every created class, and called only once upon the creation of the class instance. This method will initialize all variables needed for the object.</p>"
   ]
  },
  {
   "cell_type": "code",
   "execution_count": 10,
   "metadata": {},
   "outputs": [
    {
     "name": "stdout",
     "output_type": "stream",
     "text": [
      "4\n",
      "red\n",
      "Black\n"
     ]
    }
   ],
   "source": [
    "class Car():\n",
    "    ENGINE = '4.7L'\n",
    "    def __init__(self,wheels,color):\n",
    "        self.wheels = wheels\n",
    "        self.color = color\n",
    "ford = Car(4,\"red\")\n",
    "print(ford.wheels)\n",
    "print(ford.color)\n",
    "\n",
    "ford.__dict__\n",
    "\n",
    "chevy = Car(2,\"Black\")\n",
    "print(chevy.color)"
   ]
  },
  {
   "cell_type": "markdown",
   "metadata": {},
   "source": [
    "##### The 'self' Attribute <br>\n",
    "<p>This attribute is required to keep track of specific instance's attributes. Without the self attribute, the program would not know how to reference or keep track of an instance's attributes.</p>"
   ]
  },
  {
   "cell_type": "code",
   "execution_count": null,
   "metadata": {},
   "outputs": [],
   "source": [
    "# see above"
   ]
  },
  {
   "cell_type": "markdown",
   "metadata": {},
   "source": [
    "## Class Attributes <br>\n",
    "<p>While variables are inside of a class, they are referred to as attributes and not variables. When someone says 'attribute' you know they're speaking about a class. Attributes can be initialized through the init method, or outside of it.</p>"
   ]
  },
  {
   "cell_type": "markdown",
   "metadata": {},
   "source": [
    "##### Initializing Attributes"
   ]
  },
  {
   "cell_type": "code",
   "execution_count": 15,
   "metadata": {},
   "outputs": [
    {
     "name": "stdout",
     "output_type": "stream",
     "text": [
      "Rocco\n",
      "False\n"
     ]
    }
   ],
   "source": [
    "class Toy():\n",
    "    TYPE = \"Pet Rock\"\n",
    "    \n",
    "    def __init__(self,name,color,size,texture,elmo_hate=None):\n",
    "        self.name = name\n",
    "        self.color = color\n",
    "        self.size = size\n",
    "        self.texture = texture\n",
    "        if elmo_hate = None:\n",
    "            self.elmo_hate = False\n",
    "pet_rock1 = Toy(\"Rocco\",\"grey\",\"large\",\"bumpy\",False)\n",
    "print(pet_rock1.name)\n",
    "pet_rock1.name #string value\n",
    "print(pet_rock1.elmo_hate)\n"
   ]
  },
  {
   "cell_type": "markdown",
   "metadata": {},
   "source": [
    "##### Accessing Class Attributes"
   ]
  },
  {
   "cell_type": "code",
   "execution_count": 16,
   "metadata": {
    "scrolled": true
   },
   "outputs": [
    {
     "name": "stdout",
     "output_type": "stream",
     "text": [
      "Rocco\n",
      "grey\n",
      "bumpy\n"
     ]
    }
   ],
   "source": [
    "# See Above\n",
    "print(pet_rock1.name)\n",
    "print(pet_rock1.color)\n",
    "print(pet_rock1.texture)"
   ]
  },
  {
   "cell_type": "markdown",
   "metadata": {},
   "source": [
    "##### Setting Defaults for Attributes"
   ]
  },
  {
   "cell_type": "code",
   "execution_count": 33,
   "metadata": {},
   "outputs": [
    {
     "name": "stdout",
     "output_type": "stream",
     "text": [
      "4\n",
      "Blue\n",
      "Blue\n",
      "4.71\n"
     ]
    }
   ],
   "source": [
    "class Car():\n",
    "    ENGINE = '4.71' #this cannot be changed\n",
    "    def __init__(self,wheels):\n",
    "        self.wheels = wheels\n",
    "        self.color = \"Blue\" #default attribute that can be changed\n",
    "        \n",
    "honda = Car(4)\n",
    "chevy = Car(4)\n",
    "jeep = Car(4)\n",
    "print(honda.wheels)\n",
    "print(honda.color)\n",
    "print(chevy.color)\n",
    "print(honda.ENGINE)\n"
   ]
  },
  {
   "cell_type": "code",
   "execution_count": null,
   "metadata": {},
   "outputs": [],
   "source": []
  },
  {
   "cell_type": "markdown",
   "metadata": {},
   "source": [
    "##### Changing Class Attributes <br>\n",
    "<p>Keep in mind there are global class attributes and then there are attributes only available to each class instance which won't effect other classes.</p>"
   ]
  },
  {
   "cell_type": "code",
   "execution_count": 25,
   "metadata": {},
   "outputs": [
    {
     "name": "stdout",
     "output_type": "stream",
     "text": [
      "Before the change: white\n",
      "After change: white\n"
     ]
    }
   ],
   "source": [
    "print(f\"Before the change: {jeep.color}\")\n",
    "jeep.color = \"white\"\n",
    "print(f\"After change: {jeep.color}\")\n"
   ]
  },
  {
   "cell_type": "markdown",
   "metadata": {},
   "source": [
    "##### In-Class Exercise #2 - Add a doors and seats attribute to your 'Car' class then print out two different instances with different doors and seats"
   ]
  },
  {
   "cell_type": "code",
   "execution_count": 47,
   "metadata": {},
   "outputs": [
    {
     "name": "stdout",
     "output_type": "stream",
     "text": [
      "4\n",
      "5\n",
      "Blue\n",
      "transclucent\n"
     ]
    }
   ],
   "source": [
    "class Car():\n",
    "    ENGINE = '4.71' #this cannot be changed\n",
    "    def __init__(self,wheels,doors,seats=None):\n",
    "        self.wheels = wheels\n",
    "        self.color = \"Blue\" #default attribute that can be changed\n",
    "        self.doors = doors\n",
    "        if seats == None:\n",
    "                seats = 4\n",
    "        self.seats = seats\n",
    "            \n",
    "\n",
    "trackhawk = Car(4,4,5)\n",
    "print(trackhawk.doors)\n",
    "print(trackhawk.seats)\n",
    "print(trackhawk.color)\n",
    "trackhawk.color = \"transclucent\"\n",
    "print(trackhawk.color)"
   ]
  },
  {
   "cell_type": "markdown",
   "metadata": {},
   "source": [
    "## Class Methods <br>\n",
    "<p>While inside of a class, functions are referred to as 'methods'. If you hear someone mention methods, they're speaking about classes. Methods are essentially functions, but only callable on the instances of a class.</p>"
   ]
  },
  {
   "cell_type": "markdown",
   "metadata": {},
   "source": [
    "##### Creating"
   ]
  },
  {
   "cell_type": "code",
   "execution_count": 50,
   "metadata": {},
   "outputs": [],
   "source": [
    "class Bus():\n",
    "    \"\"\"\n",
    "        the bus will have doors,seats avail,color,and\n",
    "        a bus driver.\n",
    "        Attributes for the class:\n",
    "        -doors:integer\n",
    "        -seats:integer\n",
    "        -seats_available:integer\n",
    "        -color:string\n",
    "        -bus_driver:string\n",
    "    \"\"\"\n",
    "    def __init__(self, doors, total_seats, seats_available, color, bus_driver):\n",
    "        self.doors =doors\n",
    "        self.total_seats = total_seats\n",
    "        self.seats_available = seats_available\n",
    "        self.color = color\n",
    "        self.bus_driver =bus_driver\n",
    "    #going to decrement number of seats on the bus\n",
    "    def load_passengers(self):\n",
    "        if self.seats_available <= 0:\n",
    "            print(\"This bus is full you cant hop on my bus!\")\n",
    "        else:\n",
    "            passangers = int(input(\"How many passangers are getting on? \"))\n",
    "            self.seats_available -= passangers \n",
    "            print(f\"{passangers} seats have been taken and there are {self.seats_available} left on the bus.\")\n",
    "            \n",
    "    def unload_passangers(self):\n",
    "        if self.seats_available >= self.total_seats:\n",
    "            print(\"There is no one left to get off the bus!\")\n",
    "        else:\n",
    "            unload = int(input(\"How many passengers are getting off the bus? \"))\n",
    "            self.seats_available += unload\n",
    "            print(f\"{unload} passangers have gotten off and there are {self.seats_available} available. \")\n",
    "            \n",
    "    def change_driver(self):\n",
    "        change = input(\"Who is replacing you? \")\n",
    "        self.bus_driver = change\n",
    "        print(f\"The new bus driver is {self.bus_driver}\")\n",
    "    \n",
    "    def check_seats(self):\n",
    "        print(self.seats_available)\n",
    "        \n",
    "        \n",
    "school_bus = Bus(2,90,45,\"yellow\",\"Mrs.Humphrey\")\n",
    "\n",
    "    "
   ]
  },
  {
   "cell_type": "markdown",
   "metadata": {},
   "source": [
    "##### Calling"
   ]
  },
  {
   "cell_type": "code",
   "execution_count": null,
   "metadata": {},
   "outputs": [
    {
     "name": "stdout",
     "output_type": "stream",
     "text": [
      "What would you like to do Load/Unload/Change Driver/Check Seats/Quitload\n",
      "How many passangers are getting on? 12\n",
      "12 seats have been taken and there are 33 left on the bus.\n"
     ]
    }
   ],
   "source": [
    "def run():\n",
    "    while True:\n",
    "        response = input(\"What would you like to do Load/Unload/Change Driver/Check Seats/Quit\")\n",
    "        if response.lower() == \"quit\":\n",
    "            print(\"Oh no! There are still passengers to be picked up\")\n",
    "            break\n",
    "        elif response == 'load':\n",
    "            school_bus.load_passengers()\n",
    "        elif response.lower() == 'unload':\n",
    "            school_bus.unload_passangers()\n",
    "        elif response.lower() == 'change driver':\n",
    "            school_bus.change_driver()\n",
    "        elif respose.lower() == \"check seats\":\n",
    "            school_bus.check_seats()\n",
    "run()"
   ]
  },
  {
   "cell_type": "markdown",
   "metadata": {},
   "source": [
    "##### Modifying an Attribute's Value Through a Method"
   ]
  },
  {
   "cell_type": "code",
   "execution_count": null,
   "metadata": {},
   "outputs": [],
   "source": []
  },
  {
   "cell_type": "markdown",
   "metadata": {},
   "source": [
    "##### Incrementing an Attribute's Value Through a Method"
   ]
  },
  {
   "cell_type": "code",
   "execution_count": null,
   "metadata": {},
   "outputs": [],
   "source": []
  },
  {
   "cell_type": "markdown",
   "metadata": {},
   "source": [
    "##### In-Class Exercise #3 - Add a method that takes in three parameters of year, doors and seats and prints out a formatted print statement with make, model, year, seats, and doors"
   ]
  },
  {
   "cell_type": "code",
   "execution_count": null,
   "metadata": {},
   "outputs": [],
   "source": [
    "# Create class with 2 paramters inside of the __init__ which are make and model\n",
    "\n",
    "# Inside of the Car class create a method that has 4 parameter in total (self,year,door,seats)\n",
    "\n",
    "# Output: This car is from 2019 and is a Ford Expolorer and has 4 doors and 5 seats\n",
    "\n",
    "class Car():\n",
    "    def __init__(self,make,model,year,door,seats):\n",
    "        self.make = make\n",
    "        self.model = model\n",
    "        self.year = year\n",
    "        self.door = door\n",
    "        self.sea\n",
    "    def car_qualit(self):\n",
    "        \n",
    "        \n"
   ]
  },
  {
   "cell_type": "markdown",
   "metadata": {},
   "source": [
    "## Inheritance <br>\n",
    "<p>You can create a child-parent relationship between two classes by using inheritance. What this allows you to do is have overriding methods, but also inherit traits from the parent class. Think of it as an actual parent and child, the child will inherit the parent's genes, as will the classes in OOP</p>"
   ]
  },
  {
   "cell_type": "markdown",
   "metadata": {},
   "source": [
    "##### Syntax for Inheriting from a Parent Class"
   ]
  },
  {
   "cell_type": "code",
   "execution_count": null,
   "metadata": {},
   "outputs": [],
   "source": [
    "class Animal():\n",
    "    ACCELERATION = 9.8\n",
    "    \n",
    "    def __init__(self, name, species, legs=4):\n",
    "        self.name = name\n",
    "        self.species = species\n",
    "        self.legs = legs\n",
    "        \n",
    "    #Generic parent(Animal)Methond -- No Overide\n",
    "    def makeSound(self):\n",
    "        print(\"reeeeeeeee\")\n",
    "class Dog(Animal):\n",
    "    SPEED = 15\n",
    "    \n",
    "    def printInfo(self):\n",
    "        print(f\"the dog runs at {SPEED} mph and accelerates at {ACCELERATION}\")\n",
    "class Mut(Dog):\n",
    "    color = \"black & brown\"\n",
    "    \n",
    "    #overide the animal class __init__ method\n",
    "    def __init__(self,name,species,eye_color,legs =4):\n",
    "        Dog.__init__(self,name,species,legs)\n",
    "        self.eye_color = eye_color\n",
    "    \n",
    "    def makeSound(self):\n",
    "        print(\"ruff ruff\")\n"
   ]
  },
  {
   "cell_type": "markdown",
   "metadata": {},
   "source": [
    "##### The \\__init\\__() Method for a Child Class - super()"
   ]
  },
  {
   "cell_type": "code",
   "execution_count": null,
   "metadata": {
    "scrolled": true
   },
   "outputs": [],
   "source": [
    "cheetah = Animal('Chesster','cheetah')\n",
    "print(cheetah.name)"
   ]
  },
  {
   "cell_type": "markdown",
   "metadata": {},
   "source": [
    "##### Defining Attributes and Methods for the Child Class"
   ]
  },
  {
   "cell_type": "code",
   "execution_count": null,
   "metadata": {},
   "outputs": [],
   "source": [
    "# See Above"
   ]
  },
  {
   "cell_type": "markdown",
   "metadata": {},
   "source": [
    "##### Method Overriding"
   ]
  },
  {
   "cell_type": "code",
   "execution_count": null,
   "metadata": {},
   "outputs": [],
   "source": [
    "# See Above"
   ]
  },
  {
   "cell_type": "markdown",
   "metadata": {},
   "source": [
    "## Classes as Attributes <br>\n",
    "<p>Classes can also be used as attributes within another class. This is useful in situations where you need to keep variables locally stored, instead of globally stored.</p>"
   ]
  },
  {
   "cell_type": "code",
   "execution_count": null,
   "metadata": {},
   "outputs": [],
   "source": []
  },
  {
   "cell_type": "markdown",
   "metadata": {},
   "source": [
    "Exercise #4 \n",
    "Create a class that has at least 3 attributes. One must be a list or a dictionary.\n",
    "\n",
    "The class must also have 3 methods, one that adds to the list or dictionary, one that alters an attributes value, and one that does whatever you want it to do.\n"
   ]
  },
  {
   "cell_type": "code",
   "execution_count": null,
   "metadata": {},
   "outputs": [],
   "source": []
  },
  {
   "cell_type": "markdown",
   "metadata": {},
   "source": [
    "# Exercises"
   ]
  },
  {
   "cell_type": "markdown",
   "metadata": {},
   "source": [
    "### Exercise 1 - Turn the shopping cart program from yesterday into an object-oriented program\n",
    "\n",
    "The comments in the cell below are there as a guide for thinking about the problem. However, if you feel a different way is best for you and your own thought process, please do what feels best for you by all means."
   ]
  },
  {
   "cell_type": "code",
   "execution_count": 1,
   "metadata": {},
   "outputs": [
    {
     "name": "stdout",
     "output_type": "stream",
     "text": [
      "Enter an item to add to your cart or 'remove' to remove from cart or 'show' to see your cart or 'quit' to stop shopping:  milk\n",
      "Enter an item to add to your cart or 'remove' to remove from cart or 'show' to see your cart or 'quit' to stop shopping:  rice\n",
      "Enter an item to add to your cart or 'remove' to remove from cart or 'show' to see your cart or 'quit' to stop shopping:  remove\n",
      "what would you like to remove?rice\n",
      "Enter an item to add to your cart or 'remove' to remove from cart or 'show' to see your cart or 'quit' to stop shopping:  show\n",
      "['milk']\n"
     ]
    },
    {
     "ename": "KeyboardInterrupt",
     "evalue": "Interrupted by user",
     "output_type": "error",
     "traceback": [
      "\u001b[1;31m---------------------------------------------------------------------------\u001b[0m",
      "\u001b[1;31mKeyboardInterrupt\u001b[0m                         Traceback (most recent call last)",
      "\u001b[1;32mC:\\Users\\PENGRI~1\\AppData\\Local\\Temp/ipykernel_7796/4052855237.py\u001b[0m in \u001b[0;36m<module>\u001b[1;34m\u001b[0m\n\u001b[0;32m      2\u001b[0m \u001b[0mquit\u001b[0m \u001b[1;33m=\u001b[0m \u001b[1;32mFalse\u001b[0m\u001b[1;33m\u001b[0m\u001b[1;33m\u001b[0m\u001b[0m\n\u001b[0;32m      3\u001b[0m \u001b[1;32mwhile\u001b[0m \u001b[0mquit\u001b[0m \u001b[1;33m==\u001b[0m \u001b[1;32mFalse\u001b[0m\u001b[1;33m:\u001b[0m\u001b[1;33m\u001b[0m\u001b[1;33m\u001b[0m\u001b[0m\n\u001b[1;32m----> 4\u001b[1;33m     in_cart = input(\"\"\"Enter an item to add to your cart or 'remove' to remove from cart or 'show' to see your cart or \"\"\"\n\u001b[0m\u001b[0;32m      5\u001b[0m                     \"\"\"'quit' to stop shopping:  \"\"\")\n\u001b[0;32m      6\u001b[0m     \u001b[1;32mif\u001b[0m \u001b[0min_cart\u001b[0m \u001b[1;33m!=\u001b[0m \u001b[1;34m'show'\u001b[0m\u001b[1;32mand\u001b[0m \u001b[0min_cart\u001b[0m \u001b[1;33m!=\u001b[0m \u001b[1;34m'quit'\u001b[0m \u001b[1;32mand\u001b[0m \u001b[0min_cart\u001b[0m \u001b[1;33m!=\u001b[0m \u001b[1;34m'remove'\u001b[0m\u001b[1;33m:\u001b[0m\u001b[1;33m\u001b[0m\u001b[1;33m\u001b[0m\u001b[0m\n",
      "\u001b[1;32m~\\anaconda3\\lib\\site-packages\\ipykernel\\kernelbase.py\u001b[0m in \u001b[0;36mraw_input\u001b[1;34m(self, prompt)\u001b[0m\n\u001b[0;32m   1004\u001b[0m                 \u001b[1;34m\"raw_input was called, but this frontend does not support input requests.\"\u001b[0m\u001b[1;33m\u001b[0m\u001b[1;33m\u001b[0m\u001b[0m\n\u001b[0;32m   1005\u001b[0m             )\n\u001b[1;32m-> 1006\u001b[1;33m         return self._input_request(\n\u001b[0m\u001b[0;32m   1007\u001b[0m             \u001b[0mstr\u001b[0m\u001b[1;33m(\u001b[0m\u001b[0mprompt\u001b[0m\u001b[1;33m)\u001b[0m\u001b[1;33m,\u001b[0m\u001b[1;33m\u001b[0m\u001b[1;33m\u001b[0m\u001b[0m\n\u001b[0;32m   1008\u001b[0m             \u001b[0mself\u001b[0m\u001b[1;33m.\u001b[0m\u001b[0m_parent_ident\u001b[0m\u001b[1;33m[\u001b[0m\u001b[1;34m\"shell\"\u001b[0m\u001b[1;33m]\u001b[0m\u001b[1;33m,\u001b[0m\u001b[1;33m\u001b[0m\u001b[1;33m\u001b[0m\u001b[0m\n",
      "\u001b[1;32m~\\anaconda3\\lib\\site-packages\\ipykernel\\kernelbase.py\u001b[0m in \u001b[0;36m_input_request\u001b[1;34m(self, prompt, ident, parent, password)\u001b[0m\n\u001b[0;32m   1049\u001b[0m             \u001b[1;32mexcept\u001b[0m \u001b[0mKeyboardInterrupt\u001b[0m\u001b[1;33m:\u001b[0m\u001b[1;33m\u001b[0m\u001b[1;33m\u001b[0m\u001b[0m\n\u001b[0;32m   1050\u001b[0m                 \u001b[1;31m# re-raise KeyboardInterrupt, to truncate traceback\u001b[0m\u001b[1;33m\u001b[0m\u001b[1;33m\u001b[0m\u001b[0m\n\u001b[1;32m-> 1051\u001b[1;33m                 \u001b[1;32mraise\u001b[0m \u001b[0mKeyboardInterrupt\u001b[0m\u001b[1;33m(\u001b[0m\u001b[1;34m\"Interrupted by user\"\u001b[0m\u001b[1;33m)\u001b[0m \u001b[1;32mfrom\u001b[0m \u001b[1;32mNone\u001b[0m\u001b[1;33m\u001b[0m\u001b[1;33m\u001b[0m\u001b[0m\n\u001b[0m\u001b[0;32m   1052\u001b[0m             \u001b[1;32mexcept\u001b[0m \u001b[0mException\u001b[0m\u001b[1;33m:\u001b[0m\u001b[1;33m\u001b[0m\u001b[1;33m\u001b[0m\u001b[0m\n\u001b[0;32m   1053\u001b[0m                 \u001b[0mself\u001b[0m\u001b[1;33m.\u001b[0m\u001b[0mlog\u001b[0m\u001b[1;33m.\u001b[0m\u001b[0mwarning\u001b[0m\u001b[1;33m(\u001b[0m\u001b[1;34m\"Invalid Message:\"\u001b[0m\u001b[1;33m,\u001b[0m \u001b[0mexc_info\u001b[0m\u001b[1;33m=\u001b[0m\u001b[1;32mTrue\u001b[0m\u001b[1;33m)\u001b[0m\u001b[1;33m\u001b[0m\u001b[1;33m\u001b[0m\u001b[0m\n",
      "\u001b[1;31mKeyboardInterrupt\u001b[0m: Interrupted by user"
     ]
    }
   ],
   "source": [
    "groc_list = []\n",
    "quit = False\n",
    "while quit == False:\n",
    "    in_cart = input(\"\"\"Enter an item to add to your cart or 'remove' to remove from cart or 'show' to see your cart or \"\"\"\n",
    "                    \"\"\"'quit' to stop shopping:  \"\"\")\n",
    "    if in_cart != 'show'and in_cart != 'quit' and in_cart != 'remove':\n",
    "        groc_list.append(in_cart)\n",
    "    elif in_cart == 'show':\n",
    "        print(groc_list)\n",
    "    elif in_cart == 'remove':\n",
    "        out_cart = input(\"what would you like to remove?\")\n",
    "        groc_list.remove(out_cart)\n",
    "    elif in_cart == 'quit':\n",
    "        break\n",
    "print(groc_list)\n",
    "        \n",
    "        \n",
    "        "
   ]
  },
  {
   "cell_type": "code",
   "execution_count": 17,
   "metadata": {},
   "outputs": [],
   "source": [
    "# Create a class called cart that retains items and has methods to add, remove, and show\n",
    "\n",
    "class Cart():\n",
    "    #groc_list = []\n",
    "    def __init__(self,space,items,wheels=4):\n",
    "#         self.wheels = 4\n",
    "        self.items = items\n",
    "        self.space = space\n",
    "   \n",
    "\n",
    "    \n",
    "     \n",
    "            \n",
    "    def spaceInCart(self):\n",
    "        print(f\"The amount of stuff you can fill your cart up with is this many things: {self.space}\")\n",
    "    \n",
    "    \n",
    "    def addToCart(self):\n",
    "        in_cart = input(\"What would you like to add to your cart? \")\n",
    "        self.items.append(in_cart)\n",
    "        \n",
    "        \n",
    "    def seeCart(self):\n",
    "        for item in self.items:\n",
    "            print(f\"This is what you have in your cart: {item}\")\n",
    "            \n",
    "            \n",
    "    def outOfCart(self):\n",
    "        out_cart = input(\"what would you like to remove from cart? \")\n",
    "        for item in self.items:\n",
    "            self.items.remove(out_cart)\n",
    "            \n",
    "#     def spaceAfterShopping(self):\n",
    "        \n",
    "                  \n",
    "            \n",
    "            \n",
    "\n",
    "\n",
    "        \n",
    "    \n",
    "    \n",
    "            \n",
    "    \n",
    "\n",
    "    "
   ]
  },
  {
   "cell_type": "code",
   "execution_count": null,
   "metadata": {},
   "outputs": [
    {
     "name": "stdout",
     "output_type": "stream",
     "text": [
      "what would you like to do? add/remove/show/ or quit? add\n",
      "What would you like to add to your cart? milk\n",
      "what would you like to do? add/remove/show/ or quit? remove\n",
      "what would you like to remove from cart? milk\n",
      "what would you like to do? add/remove/show/ or quit? show\n"
     ]
    }
   ],
   "source": [
    "#__init__(self,wheels=4,space,items):\n",
    "theBasket = Cart(60,[])\n",
    "\n",
    "def run():\n",
    "    while True:\n",
    "        actions = input(\"what would you like to do? add/remove/show/ or quit? \")\n",
    "        if actions == 'add':\n",
    "            theBasket.addToCart()\n",
    "            \n",
    "        elif actions == 'show':\n",
    "            theBasket.seeCart()\n",
    "        \n",
    "        elif actions == 'remove':\n",
    "            theBasket.outOfCart()\n",
    "            \n",
    "        elif actions == 'quit':\n",
    "            print(\"Thanks for shopping.\")\n",
    "            break\n",
    "            \n",
    "run()       "
   ]
  },
  {
   "cell_type": "markdown",
   "metadata": {},
   "source": [
    "### Exercise 2 - Write a Python class which has two methods get_String and print_String. get_String accept a string from the user and print_String print the string in upper case"
   ]
  },
  {
   "cell_type": "code",
   "execution_count": null,
   "metadata": {},
   "outputs": [],
   "source": [
    "\n",
    "\n",
    "\n",
    "\n",
    "\n",
    "\n",
    "\n",
    "\n",
    "\n",
    "\n",
    "\n",
    "\n",
    "\n",
    "\n",
    "\n",
    "\n",
    "\n",
    "\n",
    "\n",
    "\n",
    "\n",
    "\n",
    "\n",
    "\n",
    "\n",
    "\n",
    "\n",
    "\n",
    "\n",
    "\n",
    "\n"
   ]
  }
 ],
 "metadata": {
  "kernelspec": {
   "display_name": "Python 3 (ipykernel)",
   "language": "python",
   "name": "python3"
  },
  "language_info": {
   "codemirror_mode": {
    "name": "ipython",
    "version": 3
   },
   "file_extension": ".py",
   "mimetype": "text/x-python",
   "name": "python",
   "nbconvert_exporter": "python",
   "pygments_lexer": "ipython3",
   "version": "3.9.7"
  }
 },
 "nbformat": 4,
 "nbformat_minor": 2
}
